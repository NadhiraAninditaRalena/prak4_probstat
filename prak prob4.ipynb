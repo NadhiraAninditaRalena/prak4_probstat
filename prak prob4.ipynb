{
 "cells": [
  {
   "cell_type": "code",
   "execution_count": 11,
   "id": "657b8e2f",
   "metadata": {},
   "outputs": [
    {
     "name": "stdout",
     "output_type": "stream",
     "text": [
      "Probabilitas P(X=k) untuk distribusi binomial: 0.1171875\n"
     ]
    }
   ],
   "source": [
    "import math\n",
    "\n",
    "#Fungsi untuk menghitung kombinasi (n choose k)\n",
    "def n_choose_k(n, k):\n",
    "    return math.factorial(n) / (math.factorial(k) * math.factorial(n - k))\n",
    "\n",
    "#Fungai untuk menghitung probabilitas P(X=k) dalam distribusi binomial\n",
    "def binomial_probability(n, k, p):\n",
    "    return n_choose_k(n, k) * (p ** k) * ((1 - p) ** (n - k))\n",
    "\n",
    "#Parameter distribusi binomial\n",
    "n = 10 # jumlah percobaan\n",
    "p = 0.5 # probabilitas keberhasilan dalam satu percobaan\n",
    "k = 3 # jumlah keberhasilan yg diinginkan\n",
    "\n",
    "#Menghitung probabilitas P(X=k) untuk distribusi binomial\n",
    "prob_binomial = binomial_probability(n, k, p)\n",
    "print(\"Probabilitas P(X=k) untuk distribusi binomial:\", prob_binomial)"
   ]
  },
  {
   "cell_type": "code",
   "execution_count": 13,
   "id": "02be593a",
   "metadata": {},
   "outputs": [
    {
     "name": "stdout",
     "output_type": "stream",
     "text": [
      "Probabilitas P(X=k) untuk distribusi binomial: 0.1171875\n"
     ]
    }
   ],
   "source": [
    "from scipy.stats import binom\n",
    "#distribusi binomial\n",
    "n = 10 # jumlah percobaan\n",
    "p = 0.5 # probabilitas keberhasilan dalam satu percobaan\n",
    "k = 3 # jumlah keberhasilan yg diinginkan\n",
    "\n",
    "prob_binomial = binomial_probability(n, k, p)\n",
    "print(\"Probabilitas P(X=k) untuk distribusi binomial:\", prob_binomial)"
   ]
  },
  {
   "cell_type": "code",
   "execution_count": 20,
   "id": "3c6f719c",
   "metadata": {},
   "outputs": [
    {
     "name": "stdout",
     "output_type": "stream",
     "text": [
      "Probabilitas P(X=k) untuk distribusi poisson: 0.22404180765538775\n"
     ]
    }
   ],
   "source": [
    "import math \n",
    "\n",
    "#fungsi untuk menghitung probabilitas P(X=k) dalam distribusi Poisson\n",
    "def poisson_probability(lambd, k):\n",
    "    return (lambd ** k) * math.exp(-lambd) / math.factorial(k)\n",
    "\n",
    "#parameter distribusion poisson\n",
    "lambd = 3  # rata-rata jumlah peristiwa dalam interval waktu/titik\n",
    "k = 2  # jumlah peristiwa yg diinginkan\n",
    "\n",
    "\n",
    "#menghitung probabilitas P(X=k) untuk distribusi poisson\n",
    "#parameter distribusion poisson\n",
    "prob_poisson = poisson_probability(lambd, k)\n",
    "print(\"Probabilitas P(X=k) untuk distribusi poisson:\", prob_poisson)"
   ]
  },
  {
   "cell_type": "code",
   "execution_count": 21,
   "id": "0693763b",
   "metadata": {},
   "outputs": [
    {
     "name": "stdout",
     "output_type": "stream",
     "text": [
      "Probabilitas P(X=k) untuk distribusi poisson: 0.22404180765538775\n"
     ]
    }
   ],
   "source": [
    "from scipy.stats import poisson\n",
    "\n",
    "#distribusion poisson\n",
    "lambd = 3  # rata-rata jumlah peristiwa dalam interval waktu/titik\n",
    "k = 2  # jumlah peristiwa yg diinginkan\n",
    "\n",
    "prob_poisson = poisson.pmf(k, lambd)\n",
    "print(\"Probabilitas P(X=k) untuk distribusi poisson:\", prob_poisson)"
   ]
  },
  {
   "cell_type": "code",
   "execution_count": 23,
   "id": "0a2ef923",
   "metadata": {},
   "outputs": [
    {
     "name": "stdout",
     "output_type": "stream",
     "text": [
      "0.1285054390988551\n"
     ]
    }
   ],
   "source": [
    "from scipy import stats\n",
    "X = stats.binom(15, 0.1)\n",
    "print(X.pmf(3)) # P(X = 3)"
   ]
  },
  {
   "cell_type": "code",
   "execution_count": 24,
   "id": "e25f63e6",
   "metadata": {},
   "outputs": [
    {
     "name": "stdout",
     "output_type": "stream",
     "text": [
      "0.8159389308936089\n"
     ]
    }
   ],
   "source": [
    "print(X.cdf(2)) #P(X <= 2)"
   ]
  },
  {
   "cell_type": "code",
   "execution_count": 25,
   "id": "670ee9da",
   "metadata": {},
   "outputs": [
    {
     "name": "stdout",
     "output_type": "stream",
     "text": [
      "0.002216045197080002\n"
     ]
    }
   ],
   "source": [
    "print(X.pmf(6)+X.pmf(7))"
   ]
  },
  {
   "cell_type": "code",
   "execution_count": 26,
   "id": "865c2805",
   "metadata": {},
   "outputs": [
    {
     "name": "stdout",
     "output_type": "stream",
     "text": [
      "0.17546736976785063\n"
     ]
    }
   ],
   "source": [
    "from scipy import stats\n",
    "Y = stats.poisson(5)\n",
    "print(Y.pmf(4)) #P(Y = 4)"
   ]
  },
  {
   "cell_type": "code",
   "execution_count": 30,
   "id": "a26f35a3",
   "metadata": {},
   "outputs": [
    {
     "name": "stdout",
     "output_type": "stream",
     "text": [
      "0.17886305056987967\n"
     ]
    }
   ],
   "source": [
    "from scipy import stats\n",
    "\n",
    "X = stats.binom(20, 0.7)\n",
    "\n",
    "pmf_15 = X.pmf(15)\n",
    "\n",
    "print(pmf_15) "
   ]
  },
  {
   "cell_type": "code",
   "execution_count": 31,
   "id": "c3a44dab",
   "metadata": {},
   "outputs": [
    {
     "name": "stdout",
     "output_type": "stream",
     "text": [
      "0.18044704431548356\n"
     ]
    }
   ],
   "source": [
    "from scipy import stats\n",
    "Y = stats.poisson(2)\n",
    "print(Y.pmf(3)) #P(Y = 3)"
   ]
  },
  {
   "cell_type": "code",
   "execution_count": 1,
   "id": "33ca9aa0",
   "metadata": {},
   "outputs": [
    {
     "name": "stdout",
     "output_type": "stream",
     "text": [
      "0.20613038097752093\n"
     ]
    }
   ],
   "source": [
    "from scipy import stats\n",
    "X = stats.binom(15, 0.3)\n",
    "print(X.pmf(5)) # P(X = 5)"
   ]
  },
  {
   "cell_type": "code",
   "execution_count": null,
   "id": "ed6e520c",
   "metadata": {},
   "outputs": [],
   "source": []
  }
 ],
 "metadata": {
  "kernelspec": {
   "display_name": "Python 3 (ipykernel)",
   "language": "python",
   "name": "python3"
  },
  "language_info": {
   "codemirror_mode": {
    "name": "ipython",
    "version": 3
   },
   "file_extension": ".py",
   "mimetype": "text/x-python",
   "name": "python",
   "nbconvert_exporter": "python",
   "pygments_lexer": "ipython3",
   "version": "3.11.5"
  }
 },
 "nbformat": 4,
 "nbformat_minor": 5
}
